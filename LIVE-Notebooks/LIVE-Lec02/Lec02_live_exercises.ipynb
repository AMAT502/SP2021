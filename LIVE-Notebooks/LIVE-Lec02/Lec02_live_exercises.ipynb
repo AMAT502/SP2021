{
 "cells": [
  {
   "cell_type": "markdown",
   "metadata": {},
   "source": [
    "## Finger Exercise 1 SOLN\n",
    "\n",
    "### Write a function that takes in three integer arguments---$x,y,z$---and prints the largest number among them.\n",
    "\n",
    "<pre>\n",
    "#here I define a function that takes in 3 integers\n",
    "def largest_of_3(x,y,z):\n",
    "    <i> fill in the blank </i>\n",
    "\n",
    "#now I test my function to see if it works\n",
    "largest_of_3(24,53,12)\n",
    "</pre>\n",
    "Spend the next ~10 minutes attempting this. "
   ]
  },
  {
   "cell_type": "code",
   "execution_count": 2,
   "metadata": {},
   "outputs": [
    {
     "name": "stdout",
     "output_type": "stream",
     "text": [
      "24 is the largest number provided\n"
     ]
    }
   ],
   "source": [
    "#my program that takes in 3 integers and returns the largest.\n",
    "def largest_of_3(x,y,z):\n",
    "    if x >y and x > z:\n",
    "        print(x, 'is the largest number provided')\n",
    "    elif y>z:\n",
    "        print(y,'is the largest number provided')\n",
    "    else:\n",
    "        print(z, 'is the largest number provided')\n",
    "\n",
    "largest_of_3(2,24,12)"
   ]
  },
  {
   "cell_type": "markdown",
   "metadata": {},
   "source": [
    "## FE 1.2 SOLN: If this is too easy, modify the program to print the largest *odd* number of the three."
   ]
  },
  {
   "cell_type": "code",
   "execution_count": null,
   "metadata": {},
   "outputs": [],
   "source": []
  },
  {
   "cell_type": "markdown",
   "metadata": {},
   "source": [
    "## Finger Exercise 2 SOLN\n",
    "\n",
    "### Write a program that asks for the user to input 10 positive integers and then prints the largest odd number entered. If no odd integer was entered, print a message to this effect.\n",
    "\n",
    "Take 10 minutes to think about this."
   ]
  },
  {
   "cell_type": "code",
   "execution_count": 1,
   "metadata": {},
   "outputs": [
    {
     "name": "stdout",
     "output_type": "stream",
     "text": [
      "Enter a positive integer:1\n",
      "Enter a positive integer:2\n",
      "Enter a positive integer:3\n",
      "Enter a positive integer:7\n",
      "Enter a positive integer:5\n",
      "Enter a positive integer:9\n",
      "Enter a positive integer:8\n",
      "Enter a positive integer:42\n",
      "Enter a positive integer:54\n",
      "Enter a positive integer:42\n",
      "9 is the largest odd integer entered.\n"
     ]
    }
   ],
   "source": [
    "max_int=0\n",
    "i=1\n",
    "while i<=10:\n",
    "    x = int(input('Enter a positive integer:'))\n",
    "    if (x%2==1 and x>max_int):\n",
    "        max_int=x\n",
    "    i+=1 #Here we have an incrementing counter.\n",
    "\n",
    "if max_int==0:\n",
    "    print('All entered integers were even or less than zero.')\n",
    "else:\n",
    "    print(max_int, 'is the largest odd integer entered.')"
   ]
  },
  {
   "cell_type": "markdown",
   "metadata": {},
   "source": [
    "## Finger Exercise 3 SOLN\n",
    "\n",
    "### Write a program that takes in a string of decimal numbers, separated by commas, e.g. s='1.5,6.4,3.8', and returns the sum of the integers in each of the decimals.\n"
   ]
  },
  {
   "cell_type": "code",
   "execution_count": 4,
   "metadata": {},
   "outputs": [],
   "source": [
    "def int_str(s):\n",
    "    total=0\n",
    "    for i in s:\n",
    "        if i!='.' and i!=',':\n",
    "            total=total+int(i)\n",
    "    return total\n"
   ]
  },
  {
   "cell_type": "code",
   "execution_count": 5,
   "metadata": {},
   "outputs": [
    {
     "data": {
      "text/plain": [
       "27"
      ]
     },
     "execution_count": 5,
     "metadata": {},
     "output_type": "execute_result"
    }
   ],
   "source": [
    "int_str('1.5,6.4,3.8')"
   ]
  },
  {
   "cell_type": "code",
   "execution_count": null,
   "metadata": {},
   "outputs": [],
   "source": []
  }
 ],
 "metadata": {
  "kernelspec": {
   "display_name": "Python 3",
   "language": "python",
   "name": "python3"
  },
  "language_info": {
   "codemirror_mode": {
    "name": "ipython",
    "version": 3
   },
   "file_extension": ".py",
   "mimetype": "text/x-python",
   "name": "python",
   "nbconvert_exporter": "python",
   "pygments_lexer": "ipython3",
   "version": "3.7.4"
  }
 },
 "nbformat": 4,
 "nbformat_minor": 2
}
