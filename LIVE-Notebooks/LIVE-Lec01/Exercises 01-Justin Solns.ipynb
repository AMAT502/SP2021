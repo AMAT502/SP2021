{
 "cells": [
  {
   "cell_type": "markdown",
   "metadata": {},
   "source": [
    "# Lecture 1 (and some of 2) Exercises"
   ]
  },
  {
   "cell_type": "markdown",
   "metadata": {},
   "source": [
    "<p> \n",
    "    <u>Contents</u>\n",
    "<ul>\n",
    "    \n",
    "<li>Variable assignment</li>\n",
    "\n",
    "<li>Print</li>\n",
    "\n",
    "<li>Data Types</li>\n",
    "\n",
    "<li>Loops (Lecture 2)</li>\n",
    "\n",
    "</ul>\n",
    "<p>"
   ]
  },
  {
   "cell_type": "markdown",
   "metadata": {},
   "source": [
    "**Exercise 1:** Assign number 3 and 17 to variables, x and y. Use the print function and variables x and y to print \"The sum of 3 and 17 is 20.\"  "
   ]
  },
  {
   "cell_type": "code",
   "execution_count": null,
   "metadata": {},
   "outputs": [],
   "source": []
  },
  {
   "cell_type": "markdown",
   "metadata": {},
   "source": [
    "**Exercise 2:** Write a program that takes in two numbers $b,h$ as the base and height of a right triangle, and computes the area of that triangle. "
   ]
  },
  {
   "cell_type": "code",
   "execution_count": null,
   "metadata": {},
   "outputs": [],
   "source": []
  },
  {
   "cell_type": "markdown",
   "metadata": {},
   "source": [
    "**Exercise 3:** Write a program to convert temperatures from celsius to fahrenheit where \n",
    "    $$c = \\frac{5}{9}(f-32)$$"
   ]
  },
  {
   "cell_type": "code",
   "execution_count": 6,
   "metadata": {},
   "outputs": [
    {
     "data": {
      "text/plain": [
       "59.0"
      ]
     },
     "execution_count": 6,
     "metadata": {},
     "output_type": "execute_result"
    }
   ],
   "source": [
    "def celsius_to_fahrenheit(c):\n",
    "    f=(9/5)*c + 32\n",
    "    return f\n",
    "\n",
    "celsius_to_fahrenheit(15)"
   ]
  },
  {
   "cell_type": "markdown",
   "metadata": {},
   "source": [
    "**Exercise 4:** Write a method that takes an integer as input and outputs whether or not the number is odd or even. Make sure you have an output that prints \"The number 'x' is even/odd\"."
   ]
  },
  {
   "cell_type": "code",
   "execution_count": null,
   "metadata": {},
   "outputs": [],
   "source": []
  },
  {
   "cell_type": "markdown",
   "metadata": {},
   "source": [
    "**Exercise 5:** \n",
    "Write a Python program to construct the following pattern, using a nested for loop.\n",
    "\n",
    "\\* \n",
    "\n",
    "\\* \\* \n",
    "\n",
    "\\* \\* \\* \n",
    "\n",
    "\\* \\* \\* \\* \n",
    "\n",
    "\\* \\* \\* \\* \\* \n",
    "\n",
    "\\* \\* \\* \\* \n",
    "\n",
    "\\* \\* \\* \n",
    "\n",
    "\\* \\* \n",
    "\n",
    "\\*\n",
    "<p>"
   ]
  },
  {
   "cell_type": "code",
   "execution_count": null,
   "metadata": {},
   "outputs": [],
   "source": []
  },
  {
   "cell_type": "markdown",
   "metadata": {},
   "source": [
    "**Exercise 6:** Write a method that takes in two numbers and finds the quotient and remainder of the first input value, divided by the second input value. Print \"The quotient is _. The remainder is _\"   \n"
   ]
  },
  {
   "cell_type": "code",
   "execution_count": 3,
   "metadata": {},
   "outputs": [
    {
     "name": "stdout",
     "output_type": "stream",
     "text": [
      "The quotient is 2. The remainder is 1\n"
     ]
    }
   ],
   "source": [
    "a = 5\n",
    "b = 2\n",
    "\n",
    "print(\"The quotient is \" + str(a // b) + \". The remainder is \" + str(a % b). )"
   ]
  },
  {
   "cell_type": "markdown",
   "metadata": {},
   "source": [
    "**Exercise 7:** Write a function that takes in an integer $n$ and computes $n!$.\n"
   ]
  },
  {
   "cell_type": "code",
   "execution_count": null,
   "metadata": {},
   "outputs": [],
   "source": []
  }
 ],
 "metadata": {
  "kernelspec": {
   "display_name": "Python 3",
   "language": "python",
   "name": "python3"
  },
  "language_info": {
   "codemirror_mode": {
    "name": "ipython",
    "version": 3
   },
   "file_extension": ".py",
   "mimetype": "text/x-python",
   "name": "python",
   "nbconvert_exporter": "python",
   "pygments_lexer": "ipython3",
   "version": "3.7.4"
  }
 },
 "nbformat": 4,
 "nbformat_minor": 2
}
